{
  "cells": [
    {
      "cell_type": "markdown",
      "metadata": {
        "id": "BqPxSvzot97M"
      },
      "source": [
        "First we import libraries"
      ]
    },
    {
      "cell_type": "code",
      "execution_count": 1,
      "metadata": {
        "colab": {
          "base_uri": "https://localhost:8080/"
        },
        "id": "9qZTxvI2shhJ",
        "outputId": "f6431009-6381-4b42-c278-45d28a159b95"
      },
      "outputs": [
        {
          "name": "stdout",
          "output_type": "stream",
          "text": [
            "Requirement already satisfied: scikit-learn==0.22.2.post1 in /usr/local/lib/python3.7/dist-packages (0.22.2.post1)\n",
            "Requirement already satisfied: numpy>=1.11.0 in /usr/local/lib/python3.7/dist-packages (from scikit-learn==0.22.2.post1) (1.21.5)\n",
            "Requirement already satisfied: joblib>=0.11 in /usr/local/lib/python3.7/dist-packages (from scikit-learn==0.22.2.post1) (1.1.0)\n",
            "Requirement already satisfied: scipy>=0.17.0 in /usr/local/lib/python3.7/dist-packages (from scikit-learn==0.22.2.post1) (1.4.1)\n",
            "Requirement already satisfied: costcla in /usr/local/lib/python3.7/dist-packages (0.6)\n",
            "Requirement already satisfied: scikit-learn>=0.15.0b2 in /usr/local/lib/python3.7/dist-packages (from costcla) (0.22.2.post1)\n",
            "Requirement already satisfied: pandas>=0.14.0 in /usr/local/lib/python3.7/dist-packages (from costcla) (1.3.5)\n",
            "Requirement already satisfied: pyea>=0.2 in /usr/local/lib/python3.7/dist-packages (from costcla) (0.2)\n",
            "Requirement already satisfied: numpy>=1.8.0 in /usr/local/lib/python3.7/dist-packages (from costcla) (1.21.5)\n",
            "Requirement already satisfied: pytz>=2017.3 in /usr/local/lib/python3.7/dist-packages (from pandas>=0.14.0->costcla) (2018.9)\n",
            "Requirement already satisfied: python-dateutil>=2.7.3 in /usr/local/lib/python3.7/dist-packages (from pandas>=0.14.0->costcla) (2.8.2)\n",
            "Requirement already satisfied: six>=1.5 in /usr/local/lib/python3.7/dist-packages (from python-dateutil>=2.7.3->pandas>=0.14.0->costcla) (1.15.0)\n",
            "Requirement already satisfied: scipy>=0.17.0 in /usr/local/lib/python3.7/dist-packages (from scikit-learn>=0.15.0b2->costcla) (1.4.1)\n",
            "Requirement already satisfied: joblib>=0.11 in /usr/local/lib/python3.7/dist-packages (from scikit-learn>=0.15.0b2->costcla) (1.1.0)\n"
          ]
        }
      ],
      "source": [
        "!pip install scikit-learn==0.22.2.post1\n",
        "!pip install costcla\n"
      ]
    },
    {
      "cell_type": "code",
      "execution_count": 2,
      "metadata": {
        "colab": {
          "base_uri": "https://localhost:8080/"
        },
        "id": "yTspk66PB_1t",
        "outputId": "a9ae4536-c706-41ae-dc4e-c52814b35896"
      },
      "outputs": [
        {
          "name": "stderr",
          "output_type": "stream",
          "text": [
            "/usr/local/lib/python3.7/dist-packages/sklearn/externals/joblib/__init__.py:15: FutureWarning: sklearn.externals.joblib is deprecated in 0.21 and will be removed in 0.23. Please import this functionality directly from joblib, which can be installed with: pip install joblib. If this warning is raised when loading pickled models, you may need to re-serialize those models with scikit-learn 0.21+.\n",
            "  warnings.warn(msg, category=FutureWarning)\n",
            "/usr/local/lib/python3.7/dist-packages/sklearn/externals/six.py:31: FutureWarning: The module is deprecated in version 0.21 and will be removed in version 0.23 since we've dropped support for Python 2.7. Please rely on the official version of six (https://pypi.org/project/six/).\n",
            "  \"(https://pypi.org/project/six/).\", FutureWarning)\n",
            "/usr/local/lib/python3.7/dist-packages/sklearn/utils/deprecation.py:144: FutureWarning: The sklearn.ensemble.base module is  deprecated in version 0.22 and will be removed in version 0.24. The corresponding classes / functions should instead be imported from sklearn.ensemble. Anything that cannot be imported from sklearn.ensemble is now part of the private API.\n",
            "  warnings.warn(message, FutureWarning)\n"
          ]
        }
      ],
      "source": [
        "import joblib\n",
        "import pandas as pd\n",
        "import seaborn as sns\n",
        "import numpy as np\n",
        "\n",
        "import matplotlib.pyplot as plt\n",
        "from sklearn.model_selection import train_test_split\n",
        "from sklearn.metrics import confusion_matrix, classification_report\n",
        "from sklearn.svm import SVC\n",
        "from sklearn.ensemble import RandomForestClassifier\n",
        "from sklearn.naive_bayes import GaussianNB\n",
        "from costcla.metrics import cost_loss\n",
        "\n",
        "from sklearn.calibration import CalibratedClassifierCV\n",
        "from costcla.models import BayesMinimumRiskClassifier\n",
        "from imblearn.under_sampling import RandomUnderSampler\n",
        "from imblearn.over_sampling import RandomOverSampler\n",
        "from collections import Counter\n"
      ]
    },
    {
      "cell_type": "markdown",
      "metadata": {
        "id": "ogT3pPeZ8S6X"
      },
      "source": [
        "We take the file and make a dataframe"
      ]
    },
    {
      "cell_type": "code",
      "execution_count": 3,
      "metadata": {
        "id": "BoaCXOeiuEB5"
      },
      "outputs": [],
      "source": [
        "heartArray = np.loadtxt('heart.dat', unpack = True)\n",
        "columns = ['age ','sex','cpt', 'rbp', 'sc', 'fbs', \n",
        "                                         'rer', 'mhr', 'eia', 'oldpeak', 'slope', \n",
        "                                         'nmv', 'thal', 'presence']\n",
        "df = pd.DataFrame(heartArray.transpose(1, 0), columns = columns)"
      ]
    },
    {
      "cell_type": "code",
      "execution_count": 4,
      "metadata": {
        "colab": {
          "base_uri": "https://localhost:8080/"
        },
        "id": "6WX516Q04XKC",
        "outputId": "dfd50f94-0e40-438a-92e3-261809c20b22"
      },
      "outputs": [
        {
          "name": "stdout",
          "output_type": "stream",
          "text": [
            "     age   sex  cpt    rbp     sc  fbs  rer    mhr  eia  oldpeak  slope  nmv  \\\n",
            "0    70.0  1.0  4.0  130.0  322.0  0.0  2.0  109.0  0.0      2.4    2.0  3.0   \n",
            "1    67.0  0.0  3.0  115.0  564.0  0.0  2.0  160.0  0.0      1.6    2.0  0.0   \n",
            "2    57.0  1.0  2.0  124.0  261.0  0.0  0.0  141.0  0.0      0.3    1.0  0.0   \n",
            "3    64.0  1.0  4.0  128.0  263.0  0.0  0.0  105.0  1.0      0.2    2.0  1.0   \n",
            "4    74.0  0.0  2.0  120.0  269.0  0.0  2.0  121.0  1.0      0.2    1.0  1.0   \n",
            "..    ...  ...  ...    ...    ...  ...  ...    ...  ...      ...    ...  ...   \n",
            "265  52.0  1.0  3.0  172.0  199.0  1.0  0.0  162.0  0.0      0.5    1.0  0.0   \n",
            "266  44.0  1.0  2.0  120.0  263.0  0.0  0.0  173.0  0.0      0.0    1.0  0.0   \n",
            "267  56.0  0.0  2.0  140.0  294.0  0.0  2.0  153.0  0.0      1.3    2.0  0.0   \n",
            "268  57.0  1.0  4.0  140.0  192.0  0.0  0.0  148.0  0.0      0.4    2.0  0.0   \n",
            "269  67.0  1.0  4.0  160.0  286.0  0.0  2.0  108.0  1.0      1.5    2.0  3.0   \n",
            "\n",
            "     thal  presence  \n",
            "0     3.0       2.0  \n",
            "1     7.0       1.0  \n",
            "2     7.0       2.0  \n",
            "3     7.0       1.0  \n",
            "4     3.0       1.0  \n",
            "..    ...       ...  \n",
            "265   7.0       1.0  \n",
            "266   7.0       1.0  \n",
            "267   3.0       1.0  \n",
            "268   6.0       1.0  \n",
            "269   3.0       2.0  \n",
            "\n",
            "[270 rows x 14 columns]\n"
          ]
        }
      ],
      "source": [
        "print(df)"
      ]
    },
    {
      "cell_type": "markdown",
      "metadata": {
        "id": "-zLIql8w8bVd"
      },
      "source": [
        "Now we have to check for missing values"
      ]
    },
    {
      "cell_type": "code",
      "execution_count": 5,
      "metadata": {
        "colab": {
          "base_uri": "https://localhost:8080/",
          "height": 300
        },
        "id": "vNfi2Ih18W2L",
        "outputId": "deaa5d45-2550-40bd-ce92-500a9040f53a"
      },
      "outputs": [
        {
          "name": "stdout",
          "output_type": "stream",
          "text": [
            "With heart disease: 120\n",
            "Without heart disease: 150\n",
            "Percentages with and without heart disease: 44.44444444444444 55.55555555555556\n"
          ]
        },
        {
          "data": {
            "image/png": "[encoded data removed]",
            "text/plain": [
              "<Figure size 432x288 with 1 Axes>"
            ]
          },
          "metadata": {},
          "output_type": "display_data"
        }
      ],
      "source": [
        "with_hd = (df.presence == 2)\n",
        "without_hd = (df.presence == 1)\n",
        "print(\"With heart disease:\",with_hd.sum())\n",
        "print(\"Without heart disease:\",without_hd.sum())\n",
        "\n",
        "df['presence'].value_counts().plot(kind='pie')\n",
        "print(\"Percentages with and without heart disease:\",with_hd.sum()*100/len(df),without_hd.sum()*100/len(df))\n"
      ]
    },
    {
      "cell_type": "markdown",
      "metadata": {
        "id": "ed29bawI_WxF"
      },
      "source": [
        "We have about half from each type which is very good for classification."
      ]
    },
    {
      "cell_type": "markdown",
      "metadata": {
        "id": "QlD2wrwo_oW6"
      },
      "source": [
        "Now we have to drop unnecessary columns.\n",
        "Attribute Information:\n",
        "------------------------\n",
        "1. age\n",
        "2. sex\n",
        "3. chest pain type (4 values) [cpt]\n",
        "4. resting blood pressure [rbp]\n",
        "5. serum cholesterol in mg/dl [sc]\n",
        "6. fasting blood sugar > 120 mg/dl [fbs]\n",
        "7. resting electrocardiographic results (values 0,1,2) [rer]\n",
        "8. maximum heart rate achieved [mhr]\n",
        "9. exercise induced angina [eia]\n",
        "10. oldpeak = ST depression induced by exercise relative to rest [oldpeak]\n",
        "11. the slope of the peak exercise ST segment [slope]\n",
        "12. number of major vessels (0-3) colored by flourosopy [nmv]\n",
        "13. thal: 3 = normal; 6 = fixed defect; 7 = reversable defect [thal] "
      ]
    },
    {
      "cell_type": "code",
      "execution_count": 6,
      "metadata": {
        "colab": {
          "base_uri": "https://localhost:8080/",
          "height": 300
        },
        "id": "8Sv53UfN_msZ",
        "outputId": "1ab399da-5330-4714-d4b1-3902a11ff689"
      },
      "outputs": [
        {
          "data": {
            "text/html": [
              "\n",
              "  <div id=\"df-b5606850-4a47-431d-a587-f666860b588c\">\n",
              "    <div class=\"colab-df-container\">\n",
              "      <div>\n",
              "<style scoped>\n",
              "    .dataframe tbody tr th:only-of-type {\n",
              "        vertical-align: middle;\n",
              "    }\n",
              "\n",
              "    .dataframe tbody tr th {\n",
              "        vertical-align: top;\n",
              "    }\n",
              "\n",
              "    .dataframe thead th {\n",
              "        text-align: right;\n",
              "    }\n",
              "</style>\n",
              "<table border=\"1\" class=\"dataframe\">\n",
              "  <thead>\n",
              "    <tr style=\"text-align: right;\">\n",
              "      <th></th>\n",
              "      <th>age</th>\n",
              "      <th>sex</th>\n",
              "      <th>cpt</th>\n",
              "      <th>rbp</th>\n",
              "      <th>sc</th>\n",
              "      <th>fbs</th>\n",
              "      <th>rer</th>\n",
              "      <th>mhr</th>\n",
              "      <th>eia</th>\n",
              "      <th>oldpeak</th>\n",
              "      <th>slope</th>\n",
              "      <th>nmv</th>\n",
              "      <th>thal</th>\n",
              "    </tr>\n",
              "  </thead>\n",
              "  <tbody>\n",
              "    <tr>\n",
              "      <th>count</th>\n",
              "      <td>270.000000</td>\n",
              "      <td>270.000000</td>\n",
              "      <td>270.000000</td>\n",
              "      <td>270.000000</td>\n",
              "      <td>270.000000</td>\n",
              "      <td>270.000000</td>\n",
              "      <td>270.000000</td>\n",
              "      <td>270.000000</td>\n",
              "      <td>270.000000</td>\n",
              "      <td>270.00000</td>\n",
              "      <td>270.000000</td>\n",
              "      <td>270.000000</td>\n",
              "      <td>270.000000</td>\n",
              "    </tr>\n",
              "    <tr>\n",
              "      <th>mean</th>\n",
              "      <td>54.433333</td>\n",
              "      <td>0.677778</td>\n",
              "      <td>3.174074</td>\n",
              "      <td>131.344444</td>\n",
              "      <td>249.659259</td>\n",
              "      <td>0.148148</td>\n",
              "      <td>1.022222</td>\n",
              "      <td>149.677778</td>\n",
              "      <td>0.329630</td>\n",
              "      <td>1.05000</td>\n",
              "      <td>1.585185</td>\n",
              "      <td>0.670370</td>\n",
              "      <td>4.696296</td>\n",
              "    </tr>\n",
              "    <tr>\n",
              "      <th>std</th>\n",
              "      <td>9.109067</td>\n",
              "      <td>0.468195</td>\n",
              "      <td>0.950090</td>\n",
              "      <td>17.861608</td>\n",
              "      <td>51.686237</td>\n",
              "      <td>0.355906</td>\n",
              "      <td>0.997891</td>\n",
              "      <td>23.165717</td>\n",
              "      <td>0.470952</td>\n",
              "      <td>1.14521</td>\n",
              "      <td>0.614390</td>\n",
              "      <td>0.943896</td>\n",
              "      <td>1.940659</td>\n",
              "    </tr>\n",
              "    <tr>\n",
              "      <th>min</th>\n",
              "      <td>29.000000</td>\n",
              "      <td>0.000000</td>\n",
              "      <td>1.000000</td>\n",
              "      <td>94.000000</td>\n",
              "      <td>126.000000</td>\n",
              "      <td>0.000000</td>\n",
              "      <td>0.000000</td>\n",
              "      <td>71.000000</td>\n",
              "      <td>0.000000</td>\n",
              "      <td>0.00000</td>\n",
              "      <td>1.000000</td>\n",
              "      <td>0.000000</td>\n",
              "      <td>3.000000</td>\n",
              "    </tr>\n",
              "    <tr>\n",
              "      <th>25%</th>\n",
              "      <td>48.000000</td>\n",
              "      <td>0.000000</td>\n",
              "      <td>3.000000</td>\n",
              "      <td>120.000000</td>\n",
              "      <td>213.000000</td>\n",
              "      <td>0.000000</td>\n",
              "      <td>0.000000</td>\n",
              "      <td>133.000000</td>\n",
              "      <td>0.000000</td>\n",
              "      <td>0.00000</td>\n",
              "      <td>1.000000</td>\n",
              "      <td>0.000000</td>\n",
              "      <td>3.000000</td>\n",
              "    </tr>\n",
              "    <tr>\n",
              "      <th>50%</th>\n",
              "      <td>55.000000</td>\n",
              "      <td>1.000000</td>\n",
              "      <td>3.000000</td>\n",
              "      <td>130.000000</td>\n",
              "      <td>245.000000</td>\n",
              "      <td>0.000000</td>\n",
              "      <td>2.000000</td>\n",
              "      <td>153.500000</td>\n",
              "      <td>0.000000</td>\n",
              "      <td>0.80000</td>\n",
              "      <td>2.000000</td>\n",
              "      <td>0.000000</td>\n",
              "      <td>3.000000</td>\n",
              "    </tr>\n",
              "    <tr>\n",
              "      <th>75%</th>\n",
              "      <td>61.000000</td>\n",
              "      <td>1.000000</td>\n",
              "      <td>4.000000</td>\n",
              "      <td>140.000000</td>\n",
              "      <td>280.000000</td>\n",
              "      <td>0.000000</td>\n",
              "      <td>2.000000</td>\n",
              "      <td>166.000000</td>\n",
              "      <td>1.000000</td>\n",
              "      <td>1.60000</td>\n",
              "      <td>2.000000</td>\n",
              "      <td>1.000000</td>\n",
              "      <td>7.000000</td>\n",
              "    </tr>\n",
              "    <tr>\n",
              "      <th>max</th>\n",
              "      <td>77.000000</td>\n",
              "      <td>1.000000</td>\n",
              "      <td>4.000000</td>\n",
              "      <td>200.000000</td>\n",
              "      <td>564.000000</td>\n",
              "      <td>1.000000</td>\n",
              "      <td>2.000000</td>\n",
              "      <td>202.000000</td>\n",
              "      <td>1.000000</td>\n",
              "      <td>6.20000</td>\n",
              "      <td>3.000000</td>\n",
              "      <td>3.000000</td>\n",
              "      <td>7.000000</td>\n",
              "    </tr>\n",
              "  </tbody>\n",
              "</table>\n",
              "</div>\n",
              "      <button class=\"colab-df-convert\" onclick=\"convertToInteractive('df-b5606850-4a47-431d-a587-f666860b588c')\"\n",
              "              title=\"Convert this dataframe to an interactive table.\"\n",
              "              style=\"display:none;\">\n",
              "        \n",
              "  <svg xmlns=\"http://www.w3.org/2000/svg\" height=\"24px\"viewBox=\"0 0 24 24\"\n",
              "       width=\"24px\">\n",
              "    <path d=\"M0 0h24v24H0V0z\" fill=\"none\"/>\n",
              "    <path d=\"M18.56 5.44l.94 2.06.94-2.06 2.06-.94-2.06-.94-.94-2.06-.94 2.06-2.06.94zm-11 1L8.5 8.5l.94-2.06 2.06-.94-2.06-.94L8.5 2.5l-.94 2.06-2.06.94zm10 10l.94 2.06.94-2.06 2.06-.94-2.06-.94-.94-2.06-.94 2.06-2.06.94z\"/><path d=\"M17.41 7.96l-1.37-1.37c-.4-.4-.92-.59-1.43-.59-.52 0-1.04.2-1.43.59L10.3 9.45l-7.72 7.72c-.78.78-.78 2.05 0 2.83L4 21.41c.39.39.9.59 1.41.59.51 0 1.02-.2 1.41-.59l7.78-7.78 2.81-2.81c.8-.78.8-2.07 0-2.86zM5.41 20L4 18.59l7.72-7.72 1.47 1.35L5.41 20z\"/>\n",
              "  </svg>\n",
              "      </button>\n",
              "      \n",
              "  <style>\n",
              "    .colab-df-container {\n",
              "      display:flex;\n",
              "      flex-wrap:wrap;\n",
              "      gap: 12px;\n",
              "    }\n",
              "\n",
              "    .colab-df-convert {\n",
              "      background-color: #E8F0FE;\n",
              "      border: none;\n",
              "      border-radius: 50%;\n",
              "      cursor: pointer;\n",
              "      display: none;\n",
              "      fill: #1967D2;\n",
              "      height: 32px;\n",
              "      padding: 0 0 0 0;\n",
              "      width: 32px;\n",
              "    }\n",
              "\n",
              "    .colab-df-convert:hover {\n",
              "      background-color: #E2EBFA;\n",
              "      box-shadow: 0px 1px 2px rgba(60, 64, 67, 0.3), 0px 1px 3px 1px rgba(60, 64, 67, 0.15);\n",
              "      fill: #174EA6;\n",
              "    }\n",
              "\n",
              "    [theme=dark] .colab-df-convert {\n",
              "      background-color: #3B4455;\n",
              "      fill: #D2E3FC;\n",
              "    }\n",
              "\n",
              "    [theme=dark] .colab-df-convert:hover {\n",
              "      background-color: #434B5C;\n",
              "      box-shadow: 0px 1px 3px 1px rgba(0, 0, 0, 0.15);\n",
              "      filter: drop-shadow(0px 1px 2px rgba(0, 0, 0, 0.3));\n",
              "      fill: #FFFFFF;\n",
              "    }\n",
              "  </style>\n",
              "\n",
              "      <script>\n",
              "        const buttonEl =\n",
              "          document.querySelector('#df-b5606850-4a47-431d-a587-f666860b588c button.colab-df-convert');\n",
              "        buttonEl.style.display =\n",
              "          google.colab.kernel.accessAllowed ? 'block' : 'none';\n",
              "\n",
              "        async function convertToInteractive(key) {\n",
              "          const element = document.querySelector('#df-b5606850-4a47-431d-a587-f666860b588c');\n",
              "          const dataTable =\n",
              "            await google.colab.kernel.invokeFunction('convertToInteractive',\n",
              "                                                     [key], {});\n",
              "          if (!dataTable) return;\n",
              "\n",
              "          const docLinkHtml = 'Like what you see? Visit the ' +\n",
              "            '<a target=\"_blank\" href=https://colab.research.google.com/notebooks/data_table.ipynb>data table notebook</a>'\n",
              "            + ' to learn more about interactive tables.';\n",
              "          element.innerHTML = '';\n",
              "          dataTable['output_type'] = 'display_data';\n",
              "          await google.colab.output.renderOutput(dataTable, element);\n",
              "          const docLink = document.createElement('div');\n",
              "          docLink.innerHTML = docLinkHtml;\n",
              "          element.appendChild(docLink);\n",
              "        }\n",
              "      </script>\n",
              "    </div>\n",
              "  </div>\n",
              "  "
            ],
            "text/plain": [
              "             age          sex         cpt         rbp          sc         fbs  \\\n",
              "count  270.000000  270.000000  270.000000  270.000000  270.000000  270.000000   \n",
              "mean    54.433333    0.677778    3.174074  131.344444  249.659259    0.148148   \n",
              "std      9.109067    0.468195    0.950090   17.861608   51.686237    0.355906   \n",
              "min     29.000000    0.000000    1.000000   94.000000  126.000000    0.000000   \n",
              "25%     48.000000    0.000000    3.000000  120.000000  213.000000    0.000000   \n",
              "50%     55.000000    1.000000    3.000000  130.000000  245.000000    0.000000   \n",
              "75%     61.000000    1.000000    4.000000  140.000000  280.000000    0.000000   \n",
              "max     77.000000    1.000000    4.000000  200.000000  564.000000    1.000000   \n",
              "\n",
              "              rer         mhr         eia    oldpeak       slope         nmv  \\\n",
              "count  270.000000  270.000000  270.000000  270.00000  270.000000  270.000000   \n",
              "mean     1.022222  149.677778    0.329630    1.05000    1.585185    0.670370   \n",
              "std      0.997891   23.165717    0.470952    1.14521    0.614390    0.943896   \n",
              "min      0.000000   71.000000    0.000000    0.00000    1.000000    0.000000   \n",
              "25%      0.000000  133.000000    0.000000    0.00000    1.000000    0.000000   \n",
              "50%      2.000000  153.500000    0.000000    0.80000    2.000000    0.000000   \n",
              "75%      2.000000  166.000000    1.000000    1.60000    2.000000    1.000000   \n",
              "max      2.000000  202.000000    1.000000    6.20000    3.000000    3.000000   \n",
              "\n",
              "             thal  \n",
              "count  270.000000  \n",
              "mean     4.696296  \n",
              "std      1.940659  \n",
              "min      3.000000  \n",
              "25%      3.000000  \n",
              "50%      3.000000  \n",
              "75%      7.000000  \n",
              "max      7.000000  "
            ]
          },
          "execution_count": 6,
          "metadata": {},
          "output_type": "execute_result"
        }
      ],
      "source": [
        "df.drop(columns=[\"presence\"]).describe()"
      ]
    },
    {
      "cell_type": "markdown",
      "metadata": {
        "id": "RSNz-NNOAsIz"
      },
      "source": [
        "At first glance every column semms imporant. The two we might be able to remove are \n",
        "1. sex\n",
        "2. age\n",
        "\n",
        "Age according to this link \n",
        "\n",
        "(https://memorialhermann.org/services/specialties/heart-and-vascular/healthy-living/education/heart-disease-and-age) \n",
        "\n",
        "plays an important role in heart disease.\n",
        "\n",
        "\"Your risk for heart disease increases with age, especially with people of color and for those who are over 65. While the average age for a heart attack is 64.5 for men, and 70.3 for women, nearly 20 percent of those who die of heart disease are under the age of 65.\""
      ]
    },
    {
      "cell_type": "markdown",
      "metadata": {
        "id": "yudtNwnZBRaX"
      },
      "source": [
        "Also from the same link we can see that the average age for men and women are different but we could not find any indicator that plays an important role for a specific gender from the other columns. Men might have a higher resting blood pressure than women for example but if we do not know if that means that there is a higher chance for heart disease. We cannot remove anything based on these alone so we have to check for correlation"
      ]
    },
    {
      "cell_type": "code",
      "execution_count": 7,
      "metadata": {
        "colab": {
          "base_uri": "https://localhost:8080/",
          "height": 545
        },
        "id": "e_K8NVdNIj3m",
        "outputId": "a3e15eee-8416-4b7d-f245-b3c3ee754ce5"
      },
      "outputs": [
        {
          "data": {
            "text/plain": [
              "<matplotlib.axes._subplots.AxesSubplot at 0x7ff105e76bd0>"
            ]
          },
          "execution_count": 7,
          "metadata": {},
          "output_type": "execute_result"
        },
        {
          "data": {
            "image/png": "[encoded data removed]",
            "text/plain": [
              "<Figure size 1440x576 with 1 Axes>"
            ]
          },
          "metadata": {
            "needs_background": "light"
          },
          "output_type": "display_data"
        }
      ],
      "source": [
        "df.drop(columns=[\"presence\"]).corrwith(df.presence).plot(kind='bar', grid=True, figsize=(20, 8), title=\"Presence Correlation \")"
      ]
    },
    {
      "cell_type": "markdown",
      "metadata": {
        "id": "Bx5I-BRpfNqS"
      },
      "source": [
        "The least correlated column is fbs so we can drop it."
      ]
    },
    {
      "cell_type": "code",
      "execution_count": 8,
      "metadata": {
        "id": "Zzu5ECVDcpls"
      },
      "outputs": [],
      "source": [
        "dfx = df.drop(columns=[\"fbs\"])"
      ]
    },
    {
      "cell_type": "markdown",
      "metadata": {
        "id": "s4LVLLPnATf5"
      },
      "source": [
        "Adding the cost matrix\n",
        "\n",
        "**Cost Matrix**\n",
        "\n",
        "| | absence | presence|\n",
        "|-|-------- |:--------|\n",
        "|absence| 0 | 1|\n",
        "|presence|5|0|\n",
        "\n",
        "_______ \n",
        "\n",
        "> Where the rows represent the true values and the columns the predicted. \n",
        "______"
      ]
    },
    {
      "cell_type": "code",
      "execution_count": 9,
      "metadata": {
        "id": "AkOEry9ufTjq"
      },
      "outputs": [],
      "source": [
        "cost_matrix = [[0 , 1], [5, 0]]"
      ]
    },
    {
      "cell_type": "code",
      "execution_count": 10,
      "metadata": {
        "id": "Tw2ujubQBw6r"
      },
      "outputs": [],
      "source": [
        "y = dfx[\"presence\"].values\n",
        "\n",
        "y[y == 1] = 0\n",
        "y[y == 2] = 1\n",
        "\n",
        "X_train, X_test, y_train, y_test = train_test_split(dfx.drop(columns=[\"presence\"]).values, \n",
        "                                                    dfx[\"presence\"].values, test_size=0.3, \n",
        "                                                    random_state=0)\n"
      ]
    },
    {
      "cell_type": "code",
      "execution_count": 11,
      "metadata": {
        "id": "2EPctW1DCtgq"
      },
      "outputs": [],
      "source": [
        "names = ['Random Forest', 'Linear SVM','Naive Bayes']\n",
        "classifiers = [RandomForestClassifier(n_estimators=100, random_state=0), \n",
        "               SVC(kernel='linear', C=10),\n",
        "               GaussianNB()]"
      ]
    },
    {
      "cell_type": "code",
      "execution_count": 12,
      "metadata": {
        "colab": {
          "base_uri": "https://localhost:8080/"
        },
        "id": "K43q6b7pDtvp",
        "outputId": "122be6d4-ca8c-4b0f-f5fe-7f960a646190"
      },
      "outputs": [
        {
          "name": "stdout",
          "output_type": "stream",
          "text": [
            "\u001b[4mRandom Forest\u001b[0m\n",
            "------------------------------------------------------\n",
            "              precision    recall  f1-score   support\n",
            "\n",
            "     absence       0.88      0.79      0.84        48\n",
            "    presence       0.74      0.85      0.79        33\n",
            "\n",
            "    accuracy                           0.81        81\n",
            "   macro avg       0.81      0.82      0.81        81\n",
            "weighted avg       0.82      0.81      0.82        81\n",
            "\n",
            "\u001b[4mConfusion matrix\u001b[0m\n",
            "[[38 10]\n",
            " [ 5 28]] \n",
            "\n",
            "loss: 35\n",
            "------------------------------------------------------\n",
            "\n",
            "\u001b[4mLinear SVM\u001b[0m\n",
            "------------------------------------------------------\n",
            "              precision    recall  f1-score   support\n",
            "\n",
            "     absence       0.87      0.83      0.85        48\n",
            "    presence       0.77      0.82      0.79        33\n",
            "\n",
            "    accuracy                           0.83        81\n",
            "   macro avg       0.82      0.83      0.82        81\n",
            "weighted avg       0.83      0.83      0.83        81\n",
            "\n",
            "\u001b[4mConfusion matrix\u001b[0m\n",
            "[[40  8]\n",
            " [ 6 27]] \n",
            "\n",
            "loss: 38\n",
            "------------------------------------------------------\n",
            "\n",
            "\u001b[4mNaive Bayes\u001b[0m\n",
            "------------------------------------------------------\n",
            "              precision    recall  f1-score   support\n",
            "\n",
            "     absence       0.84      0.79      0.82        48\n",
            "    presence       0.72      0.79      0.75        33\n",
            "\n",
            "    accuracy                           0.79        81\n",
            "   macro avg       0.78      0.79      0.79        81\n",
            "weighted avg       0.79      0.79      0.79        81\n",
            "\n",
            "\u001b[4mConfusion matrix\u001b[0m\n",
            "[[38 10]\n",
            " [ 7 26]] \n",
            "\n",
            "loss: 45\n",
            "------------------------------------------------------\n",
            "\n"
          ]
        }
      ],
      "source": [
        "for name, clf in zip(names, classifiers):\n",
        "  print(\"\\033[4m\" +  name + \"\\033[0m\")\n",
        "  print(\"------------------------------------------------------\")\n",
        "\n",
        "  clf.fit(X_train, y_train)\n",
        "  y_pred = clf.predict(X_test)\n",
        "  print(classification_report(y_test, y_pred, target_names=['absence','presence']))\n",
        "\n",
        "  conf_m = confusion_matrix(y_test, y_pred,)\n",
        "  print(\"\\033[4m\" + \"Confusion matrix\" + \"\\033[0m\")\n",
        "  print(conf_m , \"\\n\") \n",
        "  loss = np.sum(conf_m * cost_matrix)\n",
        "  print(\"loss: %d\" %loss)\n",
        "  print(\"------------------------------------------------------\\n\")\n"
      ]
    },
    {
      "cell_type": "markdown",
      "metadata": {
        "id": "iEGG2Ex7Y3Xf"
      },
      "source": [
        "We can see that between Random Forest, Linear SVM and Naive Bayes, the lowest cost is represented by the Random Forest algorithm which is 35. It is followed by Linear SVM with cost 38 and finally, as expected, Naive Bayes has the biggest one which is 45. In terms of accuracy, Linear SVM has the highest but we are now focusing only on the cost each algorithm represents.\n"
      ]
    },
    {
      "cell_type": "markdown",
      "metadata": {
        "id": "vDiqaaXFMMTV"
      },
      "source": [
        "**Calibration**"
      ]
    },
    {
      "cell_type": "markdown",
      "metadata": {
        "id": "VNmecuIwNPUj"
      },
      "source": [
        "Cost matrix required for BayesMinimumRiskClassifier and costcla"
      ]
    },
    {
      "cell_type": "code",
      "execution_count": 13,
      "metadata": {
        "id": "btpMPSYxNk5w"
      },
      "outputs": [],
      "source": [
        "fp = np.full((y_test.shape[0],1), 1)\n",
        "fn = np.full((y_test.shape[0],1), 5)\n",
        "tp = np.zeros((y_test.shape[0],1))\n",
        "tn = np.zeros((y_test.shape[0],1))\n",
        "cost_matrix = np.hstack((fp, fn, tp, tn))"
      ]
    },
    {
      "cell_type": "markdown",
      "metadata": {
        "id": "NDCaj4Mmgw3K"
      },
      "source": [
        "*No calibration*"
      ]
    },
    {
      "cell_type": "code",
      "execution_count": 14,
      "metadata": {
        "id": "HvceG0K9w38Z"
      },
      "outputs": [],
      "source": [
        "names = ['Random Forest', 'Linear SVM','Naive Bayes']\n",
        "classifiers = [RandomForestClassifier(n_estimators=100, random_state=0), \n",
        "               SVC(kernel='linear', C=10,probability=True),\n",
        "               GaussianNB()]"
      ]
    },
    {
      "cell_type": "code",
      "execution_count": 15,
      "metadata": {
        "colab": {
          "base_uri": "https://localhost:8080/"
        },
        "id": "fXB3XVpVwJ48",
        "outputId": "825dd3ee-7c3c-4b56-986b-31e24d90fc7b"
      },
      "outputs": [
        {
          "name": "stdout",
          "output_type": "stream",
          "text": [
            "\u001b[4mRandom Forest\u001b[0m\n",
            "------------------------------------------------------\n",
            "              precision    recall  f1-score   support\n",
            "\n",
            "     absence       1.00      0.29      0.45        48\n",
            "    presence       0.49      1.00      0.66        33\n",
            "\n",
            "    accuracy                           0.58        81\n",
            "   macro avg       0.75      0.65      0.56        81\n",
            "weighted avg       0.79      0.58      0.54        81\n",
            "\n",
            "\u001b[4mConfusion matrix\u001b[0m\n",
            "[[14 34]\n",
            " [ 0 33]] \n",
            "\n",
            "loss: 34\n",
            "------------------------------------------------------\n",
            "\n",
            "\u001b[4mLinear SVM\u001b[0m\n",
            "------------------------------------------------------\n",
            "              precision    recall  f1-score   support\n",
            "\n",
            "     absence       0.92      0.23      0.37        48\n",
            "    presence       0.46      0.97      0.63        33\n",
            "\n",
            "    accuracy                           0.53        81\n",
            "   macro avg       0.69      0.60      0.50        81\n",
            "weighted avg       0.73      0.53      0.47        81\n",
            "\n",
            "\u001b[4mConfusion matrix\u001b[0m\n",
            "[[11 37]\n",
            " [ 1 32]] \n",
            "\n",
            "loss: 42\n",
            "------------------------------------------------------\n",
            "\n",
            "\u001b[4mNaive Bayes\u001b[0m\n",
            "------------------------------------------------------\n",
            "              precision    recall  f1-score   support\n",
            "\n",
            "     absence       0.86      0.65      0.74        48\n",
            "    presence       0.62      0.85      0.72        33\n",
            "\n",
            "    accuracy                           0.73        81\n",
            "   macro avg       0.74      0.75      0.73        81\n",
            "weighted avg       0.76      0.73      0.73        81\n",
            "\n",
            "\u001b[4mConfusion matrix\u001b[0m\n",
            "[[31 17]\n",
            " [ 5 28]] \n",
            "\n",
            "loss: 42\n",
            "------------------------------------------------------\n",
            "\n"
          ]
        }
      ],
      "source": [
        "for name, clf in zip(names, classifiers):\n",
        "  print(\"\\033[4m\" +  name + \"\\033[0m\")\n",
        "  print(\"------------------------------------------------------\")\n",
        "\n",
        "  clf.fit(X_train, y_train)\n",
        "  y_pred_proba = clf.predict_proba(X_test)\n",
        "\n",
        "  bmr = BayesMinimumRiskClassifier(calibration=False)\n",
        "\n",
        "  y_pred = bmr.predict(y_pred_proba, cost_matrix)\n",
        "  \n",
        "  print(classification_report(y_test, y_pred, target_names=['absence','presence']))\n",
        "\n",
        "  conf_m = confusion_matrix(y_test, y_pred)\n",
        "  print(\"\\033[4m\" + \"Confusion matrix\" + \"\\033[0m\")\n",
        "  print(conf_m , \"\\n\") \n",
        "  loss = cost_loss(y_test, y_pred, cost_matrix)\n",
        "  print(\"loss: %d\" %loss)\n",
        "  print(\"------------------------------------------------------\\n\")\n"
      ]
    },
    {
      "cell_type": "markdown",
      "metadata": {
        "id": "au2CBqoIcrwd"
      },
      "source": [
        "After applying Bayes Minimum Risk Classifier with no callibration, average cost seems to be slightly less but with no significant impact to the model.  "
      ]
    },
    {
      "cell_type": "markdown",
      "metadata": {
        "id": "kivrpS-kg_bF"
      },
      "source": [
        "*costcla calibration on training set*"
      ]
    },
    {
      "cell_type": "code",
      "execution_count": 16,
      "metadata": {
        "colab": {
          "base_uri": "https://localhost:8080/"
        },
        "id": "toHZ8Z5jxyqc",
        "outputId": "2af348bc-0ee4-46b8-c565-51baf1039ac0"
      },
      "outputs": [
        {
          "name": "stdout",
          "output_type": "stream",
          "text": [
            "\u001b[4mRandom Forest\u001b[0m\n",
            "------------------------------------------------------\n",
            "              precision    recall  f1-score   support\n",
            "\n",
            "     absence       0.85      0.85      0.85        48\n",
            "    presence       0.79      0.79      0.79        33\n",
            "\n",
            "    accuracy                           0.83        81\n",
            "   macro avg       0.82      0.82      0.82        81\n",
            "weighted avg       0.83      0.83      0.83        81\n",
            "\n",
            "\u001b[4mConfusion matrix\u001b[0m\n",
            "[[41  7]\n",
            " [ 7 26]] \n",
            "\n",
            "loss: 42\n",
            "------------------------------------------------------\n",
            "\n",
            "\u001b[4mLinear SVM\u001b[0m\n",
            "------------------------------------------------------\n",
            "              precision    recall  f1-score   support\n",
            "\n",
            "     absence       0.96      0.48      0.64        48\n",
            "    presence       0.56      0.97      0.71        33\n",
            "\n",
            "    accuracy                           0.68        81\n",
            "   macro avg       0.76      0.72      0.68        81\n",
            "weighted avg       0.80      0.68      0.67        81\n",
            "\n",
            "\u001b[4mConfusion matrix\u001b[0m\n",
            "[[23 25]\n",
            " [ 1 32]] \n",
            "\n",
            "loss: 30\n",
            "------------------------------------------------------\n",
            "\n",
            "\u001b[4mNaive Bayes\u001b[0m\n",
            "------------------------------------------------------\n",
            "              precision    recall  f1-score   support\n",
            "\n",
            "     absence       0.93      0.29      0.44        48\n",
            "    presence       0.48      0.97      0.65        33\n",
            "\n",
            "    accuracy                           0.57        81\n",
            "   macro avg       0.71      0.63      0.55        81\n",
            "weighted avg       0.75      0.57      0.53        81\n",
            "\n",
            "\u001b[4mConfusion matrix\u001b[0m\n",
            "[[14 34]\n",
            " [ 1 32]] \n",
            "\n",
            "loss: 39\n",
            "------------------------------------------------------\n",
            "\n"
          ]
        }
      ],
      "source": [
        "for name, clf in zip(names, classifiers):\n",
        "  print(\"\\033[4m\" +  name + \"\\033[0m\")\n",
        "  print(\"------------------------------------------------------\")\n",
        "\n",
        "  clf.fit(X_train, y_train)\n",
        "  train_proba = clf.predict_proba(X_train)\n",
        "\n",
        "  bmr = BayesMinimumRiskClassifier(calibration=True)\n",
        "  bmr.fit(y_train, train_proba) \n",
        "\n",
        "  y_pred_proba = clf.predict_proba(X_test)\n",
        "  y_pred = bmr.predict(y_pred_proba, cost_matrix)\n",
        "\n",
        "  print(classification_report(y_test, y_pred,zero_division=0,target_names=['absence','presence']))\n",
        "\n",
        "  conf_m = confusion_matrix(y_test, y_pred)\n",
        "  print(\"\\033[4m\" + \"Confusion matrix\" + \"\\033[0m\")\n",
        "  print(conf_m , \"\\n\") \n",
        "  loss = cost_loss(y_test, y_pred, cost_matrix)\n",
        "  print(\"loss: %d\" %loss)\n",
        "  print(\"------------------------------------------------------\\n\")\n"
      ]
    },
    {
      "cell_type": "markdown",
      "metadata": {
        "id": "MBNY1GXlfbZm"
      },
      "source": [
        "After applying Bayes Minimum Risk Classifier with callibration, we see a better performance of the model in terms of cost at L-SVM and Naive Bayes whose cost is now downgrated from 38 to 30 and from 45 to 39 respectively. On the other hand, Random Forest represents  raised cost which went from 35 to 42"
      ]
    },
    {
      "cell_type": "markdown",
      "metadata": {
        "id": "QYlmlWd6f_dU"
      },
      "source": [
        "Sigmoid and Isotonic Calibration with cv 3\n"
      ]
    },
    {
      "cell_type": "code",
      "execution_count": 17,
      "metadata": {
        "colab": {
          "base_uri": "https://localhost:8080/"
        },
        "id": "Ocmq_jPkyqVF",
        "outputId": "89374b30-2c3c-4b48-d743-8627ce130da3"
      },
      "outputs": [
        {
          "name": "stdout",
          "output_type": "stream",
          "text": [
            "\u001b[4msigmoid\u001b[0m\n",
            "=======================================================================\n",
            "\u001b[4mRandom Forest\u001b[0m\n",
            "------------------------------------------------------\n",
            "              precision    recall  f1-score   support\n",
            "\n",
            "     absence       1.00      0.29      0.45        48\n",
            "    presence       0.49      1.00      0.66        33\n",
            "\n",
            "    accuracy                           0.58        81\n",
            "   macro avg       0.75      0.65      0.56        81\n",
            "weighted avg       0.79      0.58      0.54        81\n",
            "\n",
            "\u001b[4mConfusion matrix\u001b[0m\n",
            "[[14 34]\n",
            " [ 0 33]] \n",
            "\n",
            "loss: 34\n",
            "------------------------------------------------------\n",
            "\n",
            "\u001b[4mLinear SVM\u001b[0m\n",
            "------------------------------------------------------\n",
            "              precision    recall  f1-score   support\n",
            "\n",
            "     absence       0.94      0.35      0.52        48\n",
            "    presence       0.51      0.97      0.67        33\n",
            "\n",
            "    accuracy                           0.60        81\n",
            "   macro avg       0.73      0.66      0.59        81\n",
            "weighted avg       0.77      0.60      0.58        81\n",
            "\n",
            "\u001b[4mConfusion matrix\u001b[0m\n",
            "[[17 31]\n",
            " [ 1 32]] \n",
            "\n",
            "loss: 36\n",
            "------------------------------------------------------\n",
            "\n",
            "\u001b[4mNaive Bayes\u001b[0m\n",
            "------------------------------------------------------\n",
            "              precision    recall  f1-score   support\n",
            "\n",
            "     absence       0.90      0.56      0.69        48\n",
            "    presence       0.59      0.91      0.71        33\n",
            "\n",
            "    accuracy                           0.70        81\n",
            "   macro avg       0.74      0.74      0.70        81\n",
            "weighted avg       0.77      0.70      0.70        81\n",
            "\n",
            "\u001b[4mConfusion matrix\u001b[0m\n",
            "[[27 21]\n",
            " [ 3 30]] \n",
            "\n",
            "loss: 36\n",
            "------------------------------------------------------\n",
            "\n",
            "=======================================================================\n",
            "\u001b[4misotonic\u001b[0m\n",
            "=======================================================================\n",
            "\u001b[4mRandom Forest\u001b[0m\n",
            "------------------------------------------------------\n",
            "              precision    recall  f1-score   support\n",
            "\n",
            "     absence       0.94      0.33      0.49        48\n",
            "    presence       0.50      0.97      0.66        33\n",
            "\n",
            "    accuracy                           0.59        81\n",
            "   macro avg       0.72      0.65      0.58        81\n",
            "weighted avg       0.76      0.59      0.56        81\n",
            "\n",
            "\u001b[4mConfusion matrix\u001b[0m\n",
            "[[16 32]\n",
            " [ 1 32]] \n",
            "\n",
            "loss: 37\n",
            "------------------------------------------------------\n",
            "\n",
            "\u001b[4mLinear SVM\u001b[0m\n",
            "------------------------------------------------------\n",
            "              precision    recall  f1-score   support\n",
            "\n",
            "     absence       0.94      0.35      0.52        48\n",
            "    presence       0.51      0.97      0.67        33\n",
            "\n",
            "    accuracy                           0.60        81\n",
            "   macro avg       0.73      0.66      0.59        81\n",
            "weighted avg       0.77      0.60      0.58        81\n",
            "\n",
            "\u001b[4mConfusion matrix\u001b[0m\n",
            "[[17 31]\n",
            " [ 1 32]] \n",
            "\n",
            "loss: 36\n",
            "------------------------------------------------------\n",
            "\n",
            "\u001b[4mNaive Bayes\u001b[0m\n",
            "------------------------------------------------------\n",
            "              precision    recall  f1-score   support\n",
            "\n",
            "     absence       0.94      0.31      0.47        48\n",
            "    presence       0.49      0.97      0.65        33\n",
            "\n",
            "    accuracy                           0.58        81\n",
            "   macro avg       0.71      0.64      0.56        81\n",
            "weighted avg       0.76      0.58      0.54        81\n",
            "\n",
            "\u001b[4mConfusion matrix\u001b[0m\n",
            "[[15 33]\n",
            " [ 1 32]] \n",
            "\n",
            "loss: 38\n",
            "------------------------------------------------------\n",
            "\n",
            "=======================================================================\n"
          ]
        }
      ],
      "source": [
        "calibrations = ['sigmoid','isotonic']\n",
        "\n",
        "for calibration in calibrations:\n",
        "  print(\"\\033[4m\" +  calibration + \"\\033[0m\")\n",
        "  print(\"=======================================================================\")\n",
        "  for name, clf in zip(names, classifiers):\n",
        "    print(\"\\033[4m\" +  name + \"\\033[0m\")\n",
        "    print(\"------------------------------------------------------\")\n",
        "\n",
        "    cc = CalibratedClassifierCV(clf, method=calibration, cv=3)\n",
        "    model = cc.fit(X_train, y_train)\n",
        "    y_pred_proba = model.predict_proba(X_test)\n",
        "    bmr = BayesMinimumRiskClassifier(calibration=False)\n",
        "    y_pred = bmr.predict(y_pred_proba, cost_matrix)\n",
        "\n",
        "    print(classification_report(y_test, y_pred,zero_division=0,target_names=['absence','presence']))\n",
        "\n",
        "    conf_m = confusion_matrix(y_test, y_pred)\n",
        "    print(\"\\033[4m\" + \"Confusion matrix\" + \"\\033[0m\")\n",
        "    print(conf_m , \"\\n\") \n",
        "    loss = cost_loss(y_test, y_pred, cost_matrix)\n",
        "    print(\"loss: %d\" %loss)\n",
        "    print(\"------------------------------------------------------\\n\")\n",
        "  print(\"=======================================================================\")\n",
        "\n"
      ]
    },
    {
      "cell_type": "markdown",
      "metadata": {
        "id": "qJIpEHfrlPUw"
      },
      "source": [
        "test other cv"
      ]
    },
    {
      "cell_type": "code",
      "execution_count": 18,
      "metadata": {
        "colab": {
          "base_uri": "https://localhost:8080/"
        },
        "id": "QI3_FAwvlSOF",
        "outputId": "06b8caf9-0003-4b77-edab-42dcb560e340"
      },
      "outputs": [
        {
          "name": "stdout",
          "output_type": "stream",
          "text": [
            "\u001b[4msigmoid\u001b[0m\n",
            "=======================================================================\n",
            "\u001b[4mRandom Forest\u001b[0m\n",
            "------------------------------------------------------\n",
            "              precision    recall  f1-score   support\n",
            "\n",
            "     absence       1.00      0.23      0.37        48\n",
            "    presence       0.47      1.00      0.64        33\n",
            "\n",
            "    accuracy                           0.54        81\n",
            "   macro avg       0.74      0.61      0.51        81\n",
            "weighted avg       0.78      0.54      0.48        81\n",
            "\n",
            "\u001b[4mConfusion matrix\u001b[0m\n",
            "[[11 37]\n",
            " [ 0 33]] \n",
            "\n",
            "loss: 37\n",
            "------------------------------------------------------\n",
            "\n",
            "\u001b[4mLinear SVM\u001b[0m\n",
            "------------------------------------------------------\n",
            "              precision    recall  f1-score   support\n",
            "\n",
            "     absence       0.89      0.17      0.28        48\n",
            "    presence       0.44      0.97      0.61        33\n",
            "\n",
            "    accuracy                           0.49        81\n",
            "   macro avg       0.67      0.57      0.45        81\n",
            "weighted avg       0.71      0.49      0.41        81\n",
            "\n",
            "\u001b[4mConfusion matrix\u001b[0m\n",
            "[[ 8 40]\n",
            " [ 1 32]] \n",
            "\n",
            "loss: 45\n",
            "------------------------------------------------------\n",
            "\n",
            "\u001b[4mNaive Bayes\u001b[0m\n",
            "------------------------------------------------------\n",
            "              precision    recall  f1-score   support\n",
            "\n",
            "     absence       0.00      0.00      0.00        48\n",
            "    presence       0.41      1.00      0.58        33\n",
            "\n",
            "    accuracy                           0.41        81\n",
            "   macro avg       0.20      0.50      0.29        81\n",
            "weighted avg       0.17      0.41      0.24        81\n",
            "\n",
            "\u001b[4mConfusion matrix\u001b[0m\n",
            "[[ 0 48]\n",
            " [ 0 33]] \n",
            "\n",
            "loss: 48\n",
            "------------------------------------------------------\n",
            "\n",
            "=======================================================================\n",
            "\u001b[4misotonic\u001b[0m\n",
            "=======================================================================\n",
            "\u001b[4mRandom Forest\u001b[0m\n",
            "------------------------------------------------------\n",
            "              precision    recall  f1-score   support\n",
            "\n",
            "     absence       1.00      0.42      0.59        48\n",
            "    presence       0.54      1.00      0.70        33\n",
            "\n",
            "    accuracy                           0.65        81\n",
            "   macro avg       0.77      0.71      0.65        81\n",
            "weighted avg       0.81      0.65      0.63        81\n",
            "\n",
            "\u001b[4mConfusion matrix\u001b[0m\n",
            "[[20 28]\n",
            " [ 0 33]] \n",
            "\n",
            "loss: 28\n",
            "------------------------------------------------------\n",
            "\n",
            "\u001b[4mLinear SVM\u001b[0m\n",
            "------------------------------------------------------\n",
            "              precision    recall  f1-score   support\n",
            "\n",
            "     absence       0.95      0.42      0.58        48\n",
            "    presence       0.53      0.97      0.69        33\n",
            "\n",
            "    accuracy                           0.64        81\n",
            "   macro avg       0.74      0.69      0.63        81\n",
            "weighted avg       0.78      0.64      0.62        81\n",
            "\n",
            "\u001b[4mConfusion matrix\u001b[0m\n",
            "[[20 28]\n",
            " [ 1 32]] \n",
            "\n",
            "loss: 33\n",
            "------------------------------------------------------\n",
            "\n",
            "\u001b[4mNaive Bayes\u001b[0m\n",
            "------------------------------------------------------\n",
            "              precision    recall  f1-score   support\n",
            "\n",
            "     absence       0.95      0.40      0.56        48\n",
            "    presence       0.52      0.97      0.68        33\n",
            "\n",
            "    accuracy                           0.63        81\n",
            "   macro avg       0.74      0.68      0.62        81\n",
            "weighted avg       0.78      0.63      0.61        81\n",
            "\n",
            "\u001b[4mConfusion matrix\u001b[0m\n",
            "[[19 29]\n",
            " [ 1 32]] \n",
            "\n",
            "loss: 34\n",
            "------------------------------------------------------\n",
            "\n",
            "=======================================================================\n"
          ]
        }
      ],
      "source": [
        "calibrations = ['sigmoid','isotonic']\n",
        "\n",
        "for calibration in calibrations:\n",
        "  print(\"\\033[4m\" +  calibration + \"\\033[0m\")\n",
        "  print(\"=======================================================================\")\n",
        "  for name, clf in zip(names, classifiers):\n",
        "    print(\"\\033[4m\" +  name + \"\\033[0m\")\n",
        "    print(\"------------------------------------------------------\")\n",
        "\n",
        "    cc = CalibratedClassifierCV(clf, method=calibration, cv=10)\n",
        "    model = cc.fit(X_train, y_train)\n",
        "    y_pred_proba = model.predict_proba(X_test)\n",
        "    bmr = BayesMinimumRiskClassifier(calibration=False)\n",
        "    y_pred = bmr.predict(y_pred_proba, cost_matrix)\n",
        "\n",
        "    print(classification_report(y_test, y_pred,zero_division=0,target_names=['absence','presence']))\n",
        "\n",
        "    conf_m = confusion_matrix(y_test, y_pred)\n",
        "    print(\"\\033[4m\" + \"Confusion matrix\" + \"\\033[0m\")\n",
        "    print(conf_m , \"\\n\") \n",
        "    loss = cost_loss(y_test, y_pred, cost_matrix)\n",
        "    print(\"loss: %d\" %loss)\n",
        "    print(\"------------------------------------------------------\\n\")\n",
        "  print(\"=======================================================================\")\n",
        "\n"
      ]
    },
    {
      "cell_type": "code",
      "execution_count": 19,
      "metadata": {
        "colab": {
          "base_uri": "https://localhost:8080/"
        },
        "id": "qQ2b8fD2lZ9l",
        "outputId": "99bf43e5-2869-4ec4-ba5e-60a1637232a6"
      },
      "outputs": [
        {
          "name": "stdout",
          "output_type": "stream",
          "text": [
            "\u001b[4msigmoid\u001b[0m\n",
            "=======================================================================\n",
            "\u001b[4mRandom Forest\u001b[0m\n",
            "------------------------------------------------------\n",
            "              precision    recall  f1-score   support\n",
            "\n",
            "     absence       1.00      0.19      0.32        48\n",
            "    presence       0.46      1.00      0.63        33\n",
            "\n",
            "    accuracy                           0.52        81\n",
            "   macro avg       0.73      0.59      0.47        81\n",
            "weighted avg       0.78      0.52      0.44        81\n",
            "\n",
            "\u001b[4mConfusion matrix\u001b[0m\n",
            "[[ 9 39]\n",
            " [ 0 33]] \n",
            "\n",
            "loss: 39\n",
            "------------------------------------------------------\n",
            "\n",
            "\u001b[4mLinear SVM\u001b[0m\n",
            "------------------------------------------------------\n",
            "              precision    recall  f1-score   support\n",
            "\n",
            "     absence       0.86      0.12      0.22        48\n",
            "    presence       0.43      0.97      0.60        33\n",
            "\n",
            "    accuracy                           0.47        81\n",
            "   macro avg       0.64      0.55      0.41        81\n",
            "weighted avg       0.68      0.47      0.37        81\n",
            "\n",
            "\u001b[4mConfusion matrix\u001b[0m\n",
            "[[ 6 42]\n",
            " [ 1 32]] \n",
            "\n",
            "loss: 47\n",
            "------------------------------------------------------\n",
            "\n",
            "\u001b[4mNaive Bayes\u001b[0m\n",
            "------------------------------------------------------\n",
            "              precision    recall  f1-score   support\n",
            "\n",
            "     absence       0.00      0.00      0.00        48\n",
            "    presence       0.41      1.00      0.58        33\n",
            "\n",
            "    accuracy                           0.41        81\n",
            "   macro avg       0.20      0.50      0.29        81\n",
            "weighted avg       0.17      0.41      0.24        81\n",
            "\n",
            "\u001b[4mConfusion matrix\u001b[0m\n",
            "[[ 0 48]\n",
            " [ 0 33]] \n",
            "\n",
            "loss: 48\n",
            "------------------------------------------------------\n",
            "\n",
            "=======================================================================\n",
            "\u001b[4misotonic\u001b[0m\n",
            "=======================================================================\n",
            "\u001b[4mRandom Forest\u001b[0m\n",
            "------------------------------------------------------\n",
            "              precision    recall  f1-score   support\n",
            "\n",
            "     absence       1.00      0.44      0.61        48\n",
            "    presence       0.55      1.00      0.71        33\n",
            "\n",
            "    accuracy                           0.67        81\n",
            "   macro avg       0.78      0.72      0.66        81\n",
            "weighted avg       0.82      0.67      0.65        81\n",
            "\n",
            "\u001b[4mConfusion matrix\u001b[0m\n",
            "[[21 27]\n",
            " [ 0 33]] \n",
            "\n",
            "loss: 27\n",
            "------------------------------------------------------\n",
            "\n",
            "\u001b[4mLinear SVM\u001b[0m\n",
            "------------------------------------------------------\n",
            "              precision    recall  f1-score   support\n",
            "\n",
            "     absence       0.95      0.44      0.60        48\n",
            "    presence       0.54      0.97      0.70        33\n",
            "\n",
            "    accuracy                           0.65        81\n",
            "   macro avg       0.75      0.70      0.65        81\n",
            "weighted avg       0.79      0.65      0.64        81\n",
            "\n",
            "\u001b[4mConfusion matrix\u001b[0m\n",
            "[[21 27]\n",
            " [ 1 32]] \n",
            "\n",
            "loss: 32\n",
            "------------------------------------------------------\n",
            "\n",
            "\u001b[4mNaive Bayes\u001b[0m\n",
            "------------------------------------------------------\n",
            "              precision    recall  f1-score   support\n",
            "\n",
            "     absence       0.95      0.44      0.60        48\n",
            "    presence       0.54      0.97      0.70        33\n",
            "\n",
            "    accuracy                           0.65        81\n",
            "   macro avg       0.75      0.70      0.65        81\n",
            "weighted avg       0.79      0.65      0.64        81\n",
            "\n",
            "\u001b[4mConfusion matrix\u001b[0m\n",
            "[[21 27]\n",
            " [ 1 32]] \n",
            "\n",
            "loss: 32\n",
            "------------------------------------------------------\n",
            "\n",
            "=======================================================================\n"
          ]
        }
      ],
      "source": [
        "calibrations = ['sigmoid','isotonic']\n",
        "\n",
        "for calibration in calibrations:\n",
        "  print(\"\\033[4m\" +  calibration + \"\\033[0m\")\n",
        "  print(\"=======================================================================\")\n",
        "  for name, clf in zip(names, classifiers):\n",
        "    print(\"\\033[4m\" +  name + \"\\033[0m\")\n",
        "    print(\"------------------------------------------------------\")\n",
        "\n",
        "    cc = CalibratedClassifierCV(clf, method=calibration, cv=11)\n",
        "    model = cc.fit(X_train, y_train)\n",
        "    y_pred_proba = model.predict_proba(X_test)\n",
        "    bmr = BayesMinimumRiskClassifier(calibration=False)\n",
        "    y_pred = bmr.predict(y_pred_proba, cost_matrix)\n",
        "\n",
        "    print(classification_report(y_test, y_pred,zero_division=0,target_names=['absence','presence']))\n",
        "\n",
        "    conf_m = confusion_matrix(y_test, y_pred)\n",
        "    print(\"\\033[4m\" + \"Confusion matrix\" + \"\\033[0m\")\n",
        "    print(conf_m , \"\\n\") \n",
        "    loss = cost_loss(y_test, y_pred, cost_matrix)\n",
        "    print(\"loss: %d\" %loss)\n",
        "    print(\"------------------------------------------------------\\n\")\n",
        "  print(\"=======================================================================\")\n",
        "\n"
      ]
    },
    {
      "cell_type": "markdown",
      "metadata": {
        "id": "f8JKEk3ppUui"
      },
      "source": [
        "After apllying Isotonic callibration, the results are overall better. The sigmoid did not yield good results for some reason. One reason might be that the dataset is small.\n",
        "\n",
        "Also note the with the Linear SVM the sigmoid callibration is worse than the other models, which is strange because the sigmoid calibration tends to work well with Linear SVMs.\n"
      ]
    },
    {
      "cell_type": "markdown",
      "metadata": {
        "id": "QguitkV3oF_h"
      },
      "source": [
        "**The first part of the project continues on the project-A2.ipynb**"
      ]
    }
  ],
  "metadata": {
    "colab": {
      "name": "project1-A1.ipynb",
      "provenance": []
    },
    "kernelspec": {
      "display_name": "Python 3",
      "name": "python3"
    },
    "language_info": {
      "name": "python"
    }
  },
  "nbformat": 4,
  "nbformat_minor": 0
}
